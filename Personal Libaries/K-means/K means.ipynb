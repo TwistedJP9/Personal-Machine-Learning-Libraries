{
 "cells": [
  {
   "cell_type": "markdown",
   "metadata": {},
   "source": [
    "# K-MEANS Clustering"
   ]
  },
  {
   "cell_type": "markdown",
   "metadata": {},
   "source": [
    "In this notebook we will prepare the code that implements the K-means clustering algorithm. This is an unsupervised learning technique which takes a group of datapoints and partitions them into k-clusters. The mean of each cluster is called the \"centroid\" which is the closest one of the k-centroids for the datapoints of that particular cluster"
   ]
  },
  {
   "cell_type": "markdown",
   "metadata": {},
   "source": [
    "The K-means algorithm amounts to the following steps:\n",
    "- Initiate the number of k centroids\n",
    "- calculate the distance of each datapoint to the centroids and select the closest one\n",
    "- Recognise the clusters and move each centroid to the mean location of each cluster\n",
    "- Repeat the process till the results converge, i.e. the centroids do not move. I check this convergence with a rounding function which can be made as sensitive as we desire"
   ]
  },
  {
   "cell_type": "code",
   "execution_count": null,
   "metadata": {},
   "outputs": [],
   "source": []
  },
  {
   "cell_type": "code",
   "execution_count": null,
   "metadata": {},
   "outputs": [],
   "source": []
  },
  {
   "cell_type": "markdown",
   "metadata": {},
   "source": [
    "## Preparing all the necessary functions for our predictive algorithm:"
   ]
  },
  {
   "cell_type": "code",
   "execution_count": 1,
   "metadata": {},
   "outputs": [],
   "source": [
    "import numpy as np\n",
    "import pandas as pd\n",
    "import matplotlib.pyplot as plt\n",
    "import sklearn as sl\n",
    "from sklearn.model_selection import train_test_split"
   ]
  },
  {
   "cell_type": "markdown",
   "metadata": {},
   "source": [
    "The following functions do the following:\n",
    "- Calculate the distance between two vectors\n",
    "- Initialise the centroids\n",
    "- Calculate the closest centroid for each datapoint\n",
    "- Calculate the new mean of a cluster and move the corresponding centroid to the mean"
   ]
  },
  {
   "cell_type": "code",
   "execution_count": 12,
   "metadata": {},
   "outputs": [],
   "source": [
    "def distance(a,b):\n",
    "    #needs at least two columns due to the axis=1\n",
    "    dis = np.linalg.norm(a-b, axis =1 )\n",
    "    return dis"
   ]
  },
  {
   "cell_type": "code",
   "execution_count": 21,
   "metadata": {},
   "outputs": [],
   "source": [
    "def ini_centroids(n_centroids, length):\n",
    "    #initialize a matrix where each row is one centroid:\n",
    "    mu = np.random.rand(n_centroids,length)\n",
    "    \n",
    "    return mu"
   ]
  },
  {
   "cell_type": "code",
   "execution_count": 43,
   "metadata": {},
   "outputs": [],
   "source": [
    "def a_centroid(centroids, datapoint):\n",
    "    # calculate the closest centroid for a specific datapoint\n",
    "    a = distance(centroids, datapoint)\n",
    "    cluster = np.argmin(a)\n",
    "    \n",
    "    return cluster"
   ]
  },
  {
   "cell_type": "code",
   "execution_count": 119,
   "metadata": {
    "scrolled": false
   },
   "outputs": [],
   "source": [
    "def move_centroids(data, cluster, centroid_number):\n",
    "    #we calculate the average of all the points belonging to the cluster of one centroid\n",
    "    #and then move the centroid to that spot\n",
    "    points = X[np.where(cluster==centroid_number)[0], :]\n",
    "    if len(points)!=0:\n",
    "        new_c = np.sum(points, axis = 0)/(len(points))\n",
    "    else:\n",
    "        new_c = 0\n",
    "    return new_c, len(points)"
   ]
  },
  {
   "cell_type": "markdown",
   "metadata": {},
   "source": [
    "## The fitting algorithm"
   ]
  },
  {
   "cell_type": "code",
   "execution_count": 120,
   "metadata": {},
   "outputs": [],
   "source": [
    "def fit(X, n_centroids,decimal):\n",
    "    #initialize our centroids:\n",
    "    length = X.shape[0]\n",
    "    mu = ini_centroids(n_centroids, length)\n",
    "    group = np.zeros(X.shape[0])\n",
    "    print(mu)\n",
    "    while True:\n",
    "        #necessary for the if loop later on\n",
    "        mu_backup = mu\n",
    "        group_b = group\n",
    "        #\n",
    "        for k in range(0, X.shape[0]):\n",
    "            group[k] = a_centroid(mu, X[k,:])        \n",
    "        \n",
    "        \n",
    "        mu = np.array([ move_centroids(X,group,i)[0] if  move_centroids(X,group,i)[1]!=0 else mu_backup[i, :] for i in range(0,n_centroids) ])\n",
    "        if    all(np.round(np.subtract(group, group_b), decimals = decimal)==np.zeros(group.shape)):\n",
    "            break\n",
    "        else:\n",
    "            continue\n",
    "            \n",
    "    return group, mu"
   ]
  },
  {
   "cell_type": "code",
   "execution_count": 121,
   "metadata": {},
   "outputs": [],
   "source": [
    "X = np.random.rand(4,4)"
   ]
  },
  {
   "cell_type": "code",
   "execution_count": 122,
   "metadata": {},
   "outputs": [
    {
     "name": "stdout",
     "output_type": "stream",
     "text": [
      "[[0.92688011 0.82579675 0.12234586 0.83468458]\n",
      " [0.51875652 0.00544407 0.71095672 0.14438704]\n",
      " [0.16527191 0.6458194  0.808197   0.49078459]]\n"
     ]
    },
    {
     "data": {
      "text/plain": [
       "(array([0., 0., 2., 0.]),\n",
       " array([[0.61181894, 0.57177062, 0.24837028, 0.79363518],\n",
       "        [0.51875652, 0.00544407, 0.71095672, 0.14438704],\n",
       "        [0.67857238, 0.56875037, 0.94678426, 0.55643573]]))"
      ]
     },
     "execution_count": 122,
     "metadata": {},
     "output_type": "execute_result"
    }
   ],
   "source": [
    "fit(X,3)"
   ]
  },
  {
   "cell_type": "code",
   "execution_count": null,
   "metadata": {},
   "outputs": [],
   "source": []
  }
 ],
 "metadata": {
  "kernelspec": {
   "display_name": "Python 3",
   "language": "python",
   "name": "python3"
  },
  "language_info": {
   "codemirror_mode": {
    "name": "ipython",
    "version": 3
   },
   "file_extension": ".py",
   "mimetype": "text/x-python",
   "name": "python",
   "nbconvert_exporter": "python",
   "pygments_lexer": "ipython3",
   "version": "3.7.6"
  }
 },
 "nbformat": 4,
 "nbformat_minor": 4
}
